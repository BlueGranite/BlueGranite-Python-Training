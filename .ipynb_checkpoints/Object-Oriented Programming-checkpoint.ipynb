{
 "cells": [
  {
   "cell_type": "markdown",
   "metadata": {},
   "source": [
    "<center><h1>Object-Oriented Programming</h1><center>"
   ]
  },
  {
   "cell_type": "markdown",
   "metadata": {},
   "source": [
    "<center><h2>Classes</h2></center>"
   ]
  },
  {
   "cell_type": "code",
   "execution_count": 4,
   "metadata": {
    "collapsed": true
   },
   "outputs": [],
   "source": [
    "#Defining your first class\n",
    "class FirstClass: #Name the class object\n",
    "    def setdata(self, value): #Define the first method\n",
    "        self.data = value #'self' in an instance\n",
    "    def display(self): \n",
    "        print(self.data)"
   ]
  },
  {
   "cell_type": "code",
   "execution_count": 5,
   "metadata": {
    "collapsed": true
   },
   "outputs": [],
   "source": [
    "#Make 2 instances of the same class\n",
    "#Each is in its own namespace\n",
    "x = FirstClass()\n",
    "y = FirstClass()"
   ]
  },
  {
   "cell_type": "code",
   "execution_count": 6,
   "metadata": {
    "collapsed": false
   },
   "outputs": [],
   "source": [
    "x.setdata('King Arthur') #Call first method method (using x as self)\n",
    "y.setdata(1.2345) #Runs FirstClass.setdata(y,1.2345)"
   ]
  },
  {
   "cell_type": "code",
   "execution_count": 7,
   "metadata": {
    "collapsed": false
   },
   "outputs": [
    {
     "name": "stdout",
     "output_type": "stream",
     "text": [
      "King Arthur\n",
      "1.2345\n"
     ]
    }
   ],
   "source": [
    "x.display() #self.data is different in each instance\n",
    "y.display() #Runs FirstClass.display(y)"
   ]
  },
  {
   "cell_type": "markdown",
   "metadata": {},
   "source": [
    "<center><h2>Subclasses</h2></center>"
   ]
  },
  {
   "cell_type": "code",
   "execution_count": 8,
   "metadata": {
    "collapsed": true
   },
   "outputs": [],
   "source": [
    "#Make another class that references our previous class\n",
    "class SecondClass(FirstClass): #Inherits setdata\n",
    "    def display(self): #Changes display function\n",
    "        print('Current value = \"%s\"' % self.data)"
   ]
  },
  {
   "cell_type": "code",
   "execution_count": 9,
   "metadata": {
    "collapsed": false
   },
   "outputs": [
    {
     "name": "stdout",
     "output_type": "stream",
     "text": [
      "Current value = \"42\"\n"
     ]
    }
   ],
   "source": [
    "z = SecondClass() #Create a new instance\n",
    "z.setdata(42)\n",
    "z.display() #Test the new SecondClass.display function"
   ]
  },
  {
   "cell_type": "markdown",
   "metadata": {},
   "source": [
    "<center><h2>Special Hook Methods</h2></center>"
   ]
  },
  {
   "cell_type": "code",
   "execution_count": 11,
   "metadata": {
    "collapsed": true
   },
   "outputs": [],
   "source": [
    "#Define a third class that outlines special methods\n",
    "class ThirdClass(SecondClass): #Inherit from SecondClass\n",
    "    def __init__(self, value): #On \"ThirdClass(value)\"\n",
    "        self.data = value\n",
    "    def __add__(self, other): #On \"self + other\"\n",
    "        return ThirdClass(self.data + other)\n",
    "    def __str__(self): #On \"print(self)\",\"str()\"\n",
    "        return '[ThirdClass: %s]' % self.data\n",
    "    def mul(self, other): #In-place change: named\n",
    "        self.data *= other"
   ]
  },
  {
   "cell_type": "code",
   "execution_count": 12,
   "metadata": {
    "collapsed": false
   },
   "outputs": [
    {
     "name": "stdout",
     "output_type": "stream",
     "text": [
      "Current value = \"abc\"\n"
     ]
    }
   ],
   "source": [
    "a = ThirdClass('abc') #__init__ is called behind the scenes\n",
    "a.display() #Inherited method is called"
   ]
  },
  {
   "cell_type": "code",
   "execution_count": 15,
   "metadata": {
    "collapsed": false
   },
   "outputs": [
    {
     "name": "stdout",
     "output_type": "stream",
     "text": [
      "[ThirdClass: abc]\n"
     ]
    }
   ],
   "source": [
    "print(a) #__str__ is called and returns display string"
   ]
  },
  {
   "cell_type": "code",
   "execution_count": 16,
   "metadata": {
    "collapsed": false
   },
   "outputs": [
    {
     "name": "stdout",
     "output_type": "stream",
     "text": [
      "Current value = \"abcxyz\"\n"
     ]
    }
   ],
   "source": [
    "b = a + 'xyz' #A new instances is made and __add__ is called\n",
    "b.display() #b has all the ThirdClass methods"
   ]
  },
  {
   "cell_type": "code",
   "execution_count": 17,
   "metadata": {
    "collapsed": false
   },
   "outputs": [
    {
     "name": "stdout",
     "output_type": "stream",
     "text": [
      "[ThirdClass: abcxyz]\n"
     ]
    }
   ],
   "source": [
    "print(b) #__str__ is called and returns display string"
   ]
  },
  {
   "cell_type": "code",
   "execution_count": 18,
   "metadata": {
    "collapsed": false
   },
   "outputs": [
    {
     "name": "stdout",
     "output_type": "stream",
     "text": [
      "[ThirdClass: abcabcabc]\n"
     ]
    }
   ],
   "source": [
    "a.mul(3) #mul changes instance in place\n",
    "print(a)"
   ]
  },
  {
   "cell_type": "markdown",
   "metadata": {},
   "source": [
    "<center><h2>Development Example</h2></center>"
   ]
  },
  {
   "cell_type": "code",
   "execution_count": 20,
   "metadata": {
    "collapsed": true
   },
   "outputs": [],
   "source": [
    "#What if you don't know what should go inside your class yet?\n",
    "class MySuperCoolClass:\n",
    "    pass #Use pass as a placeholder"
   ]
  },
  {
   "cell_type": "code",
   "execution_count": 21,
   "metadata": {
    "collapsed": false
   },
   "outputs": [
    {
     "data": {
      "text/plain": [
       "<__main__.MySuperCoolClass at 0x1f56e540ef0>"
      ]
     },
     "execution_count": 21,
     "metadata": {},
     "output_type": "execute_result"
    }
   ],
   "source": [
    "MySuperCoolClass() #What is this class?"
   ]
  },
  {
   "cell_type": "code",
   "execution_count": 22,
   "metadata": {
    "collapsed": true
   },
   "outputs": [],
   "source": [
    "cool1 = MySuperCoolClass() #Create a new instances of the class\n",
    "cool1.teacher = 'John Doe' #Define some variables without defining any functions\n",
    "cool1.subject = 'Python Training'\n",
    "cool1.level = 101"
   ]
  },
  {
   "cell_type": "code",
   "execution_count": 27,
   "metadata": {
    "collapsed": false
   },
   "outputs": [
    {
     "data": {
      "text/plain": [
       "'John Doe'"
      ]
     },
     "execution_count": 27,
     "metadata": {},
     "output_type": "execute_result"
    }
   ],
   "source": [
    "#See what is stored for each variable\n",
    "cool1.teacher"
   ]
  },
  {
   "cell_type": "code",
   "execution_count": 44,
   "metadata": {
    "collapsed": true
   },
   "outputs": [],
   "source": [
    "class MySuperCoolClass:\n",
    "    def get_teacher(self):\n",
    "        return self.teacher\n",
    "    def get_subject(self):\n",
    "        return self.subject\n",
    "    def get_level(self):\n",
    "        return self.level\n",
    "    def welcome(self):\n",
    "        return print('Welcome to %s\\'s %s %d class!' % (self.teacher, self.subject, self.level))"
   ]
  },
  {
   "cell_type": "code",
   "execution_count": 45,
   "metadata": {
    "collapsed": false
   },
   "outputs": [
    {
     "name": "stdout",
     "output_type": "stream",
     "text": [
      "Welcome to John Doe's Python Training 101 class!\n"
     ]
    }
   ],
   "source": [
    "cool2 = MySuperCoolClass()\n",
    "cool2.teacher = 'John Doe' #Define some variables without defining any functions\n",
    "cool2.subject = 'Python Training'\n",
    "cool2.level = 101\n",
    "cool2.welcome()"
   ]
  },
  {
   "cell_type": "markdown",
   "metadata": {},
   "source": [
    "<center><h2>Class Methods</h2></center>"
   ]
  },
  {
   "cell_type": "code",
   "execution_count": 63,
   "metadata": {
    "collapsed": false
   },
   "outputs": [],
   "source": [
    "class SomeOtherClass:\n",
    "    InstanceCount = 0 #Initialize the counter\n",
    "    \n",
    "    @classmethod #This method will be private to the other instances of this class\n",
    "    def IncrementCount(self):\n",
    "        self.InstanceCount += 1 #Increment the counter\n",
    "    \n",
    "    def __init__(self): #When a new instance is created, call the method to increment the count\n",
    "        self.number = self.InstanceCount\n",
    "        self.IncrementCount()"
   ]
  },
  {
   "cell_type": "code",
   "execution_count": 64,
   "metadata": {
    "collapsed": false
   },
   "outputs": [
    {
     "data": {
      "text/plain": [
       "0"
      ]
     },
     "execution_count": 64,
     "metadata": {},
     "output_type": "execute_result"
    }
   ],
   "source": [
    "in1 = SomeOtherClass() #Create the first instance and see the instance number\n",
    "in1.number"
   ]
  },
  {
   "cell_type": "code",
   "execution_count": 65,
   "metadata": {
    "collapsed": false
   },
   "outputs": [
    {
     "data": {
      "text/plain": [
       "1"
      ]
     },
     "execution_count": 65,
     "metadata": {},
     "output_type": "execute_result"
    }
   ],
   "source": [
    "in2 = SomeOtherClass() #Create the second instance and see the instance number\n",
    "in2.number"
   ]
  },
  {
   "cell_type": "code",
   "execution_count": 67,
   "metadata": {
    "collapsed": false
   },
   "outputs": [
    {
     "data": {
      "text/plain": [
       "2"
      ]
     },
     "execution_count": 67,
     "metadata": {},
     "output_type": "execute_result"
    }
   ],
   "source": [
    "SomeOtherClass.InstanceCount #See how many instances of the class there are"
   ]
  },
  {
   "cell_type": "code",
   "execution_count": null,
   "metadata": {
    "collapsed": true
   },
   "outputs": [],
   "source": []
  }
 ],
 "metadata": {
  "kernelspec": {
   "display_name": "Python 3",
   "language": "python",
   "name": "python3"
  },
  "language_info": {
   "codemirror_mode": {
    "name": "ipython",
    "version": 3
   },
   "file_extension": ".py",
   "mimetype": "text/x-python",
   "name": "python",
   "nbconvert_exporter": "python",
   "pygments_lexer": "ipython3",
   "version": "3.6.0"
  }
 },
 "nbformat": 4,
 "nbformat_minor": 2
}
