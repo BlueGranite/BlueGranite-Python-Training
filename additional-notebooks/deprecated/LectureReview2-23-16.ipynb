{
 "cells": [
  {
   "cell_type": "markdown",
   "metadata": {},
   "source": [
    "# Lecture Review 2-23-16"
   ]
  },
  {
   "cell_type": "markdown",
   "metadata": {},
   "source": [
    "## Python Syntax"
   ]
  },
  {
   "cell_type": "markdown",
   "metadata": {},
   "source": [
    "Unlike C, Perl, or Java, Python doesn't use curly brackets to signify code blocks. Python uses white space. It doesn't matter what white space delimiter you use, as long as you keep it consistent. You are not going to have fun if you mix tabs and spaces."
   ]
  },
  {
   "cell_type": "markdown",
   "metadata": {},
   "source": [
    "* Whitespace is used in `if` statments, `for`, and `while` loops, function definitions and other places."
   ]
  },
  {
   "cell_type": "code",
   "execution_count": 1,
   "metadata": {
    "collapsed": false
   },
   "outputs": [
    {
     "name": "stdout",
     "output_type": "stream",
     "text": [
      "Even\n"
     ]
    }
   ],
   "source": [
    "if 10%2==0:\n",
    "    print \"Even\"\n",
    "else:\n",
    "    print \"Odd\""
   ]
  },
  {
   "cell_type": "markdown",
   "metadata": {},
   "source": [
    "* If you have nested code blocks, each block needs to be indented to the appropriate level"
   ]
  },
  {
   "cell_type": "markdown",
   "metadata": {},
   "source": [
    "* This won't work"
   ]
  },
  {
   "cell_type": "code",
   "execution_count": 7,
   "metadata": {
    "collapsed": false
   },
   "outputs": [
    {
     "ename": "IndentationError",
     "evalue": "expected an indented block (<ipython-input-7-f574e51fd60c>, line 3)",
     "output_type": "error",
     "traceback": [
      "\u001b[1;36m  File \u001b[1;32m\"<ipython-input-7-f574e51fd60c>\"\u001b[1;36m, line \u001b[1;32m3\u001b[0m\n\u001b[1;33m    if num%2==0:\u001b[0m\n\u001b[1;37m     ^\u001b[0m\n\u001b[1;31mIndentationError\u001b[0m\u001b[1;31m:\u001b[0m expected an indented block\n"
     ]
    }
   ],
   "source": [
    "nums = [1,2,3,4]\n",
    "for nu in nums:\n",
    "if nu%2==0:\n",
    "    print \"Even\""
   ]
  },
  {
   "cell_type": "markdown",
   "metadata": {},
   "source": [
    "* This won't work either"
   ]
  },
  {
   "cell_type": "code",
   "execution_count": 8,
   "metadata": {
    "collapsed": false
   },
   "outputs": [
    {
     "ename": "IndentationError",
     "evalue": "expected an indented block (<ipython-input-8-5897152d9f6b>, line 4)",
     "output_type": "error",
     "traceback": [
      "\u001b[1;36m  File \u001b[1;32m\"<ipython-input-8-5897152d9f6b>\"\u001b[1;36m, line \u001b[1;32m4\u001b[0m\n\u001b[1;33m    print \"Even\"\u001b[0m\n\u001b[1;37m        ^\u001b[0m\n\u001b[1;31mIndentationError\u001b[0m\u001b[1;31m:\u001b[0m expected an indented block\n"
     ]
    }
   ],
   "source": [
    "nums = [1,2,3,4]\n",
    "for nu in nums:\n",
    "    if nu%2==0:\n",
    "    print \"Even\""
   ]
  },
  {
   "cell_type": "markdown",
   "metadata": {},
   "source": [
    "* When things are properly indented Python is happy"
   ]
  },
  {
   "cell_type": "code",
   "execution_count": 6,
   "metadata": {
    "collapsed": false
   },
   "outputs": [
    {
     "name": "stdout",
     "output_type": "stream",
     "text": [
      "Even\n"
     ]
    }
   ],
   "source": [
    "nums = [1,2,3,4]\n",
    "for nu in nums:\n",
    "    if nu%2==0:\n",
    "        print \"Even\""
   ]
  },
  {
   "cell_type": "markdown",
   "metadata": {},
   "source": [
    "## `if` Statements"
   ]
  },
  {
   "cell_type": "markdown",
   "metadata": {},
   "source": [
    "* `if` statements are used to test whether an expression is true or not, and then act on it."
   ]
  },
  {
   "cell_type": "code",
   "execution_count": 11,
   "metadata": {
    "collapsed": false
   },
   "outputs": [
    {
     "name": "stdout",
     "output_type": "stream",
     "text": [
      "You can vote\n"
     ]
    }
   ],
   "source": [
    "age=25\n",
    "if age >= 18:\n",
    "    print \"You can vote\""
   ]
  },
  {
   "cell_type": "markdown",
   "metadata": {},
   "source": [
    "* `else` statements are used to in combination with `if` statements. They only execute if the `if` statement they are paired with is false."
   ]
  },
  {
   "cell_type": "code",
   "execution_count": 12,
   "metadata": {
    "collapsed": false
   },
   "outputs": [
    {
     "name": "stdout",
     "output_type": "stream",
     "text": [
      "No voting for you\n"
     ]
    }
   ],
   "source": [
    "age=17\n",
    "if age >= 18:\n",
    "    print \"You can vote\"\n",
    "else:\n",
    "    print \"No voting for you\""
   ]
  },
  {
   "cell_type": "markdown",
   "metadata": {},
   "source": [
    "* `elif` statements are are used in combination with `if` statements. They act as a second `if` statement that only gets executed if it is true, and the previous `if` and `elif` statements are false. `elif` stands for else-if."
   ]
  },
  {
   "cell_type": "code",
   "execution_count": 14,
   "metadata": {
    "collapsed": false
   },
   "outputs": [
    {
     "name": "stdout",
     "output_type": "stream",
     "text": [
      "No voting or drinking\n"
     ]
    }
   ],
   "source": [
    "age=10\n",
    "if age >= 18 and age < 21:\n",
    "    print \"You can vote but not drink\"\n",
    "elif age >= 18 and age >= 21:\n",
    "    print \"You can vote and drink\"\n",
    "else:\n",
    "    print \"No voting or drinking\""
   ]
  },
  {
   "cell_type": "code",
   "execution_count": 15,
   "metadata": {
    "collapsed": false
   },
   "outputs": [
    {
     "name": "stdout",
     "output_type": "stream",
     "text": [
      "You can vote but not drink\n"
     ]
    }
   ],
   "source": [
    "age=18\n",
    "if age >= 18 and age < 21:\n",
    "    print \"You can vote but not drink\"\n",
    "elif age >= 18 and age >= 21:\n",
    "    print \"You can vote and drink\"\n",
    "else:\n",
    "    print \"No voting or drinking\""
   ]
  },
  {
   "cell_type": "code",
   "execution_count": 16,
   "metadata": {
    "collapsed": false
   },
   "outputs": [
    {
     "name": "stdout",
     "output_type": "stream",
     "text": [
      "You can vote and drink\n"
     ]
    }
   ],
   "source": [
    "age=32\n",
    "if age >= 18 and age < 21:\n",
    "    print \"You can vote but not drink\"\n",
    "elif age >= 18 and age >= 21:\n",
    "    print \"You can vote and drink\"\n",
    "else:\n",
    "    print \"No voting or drinking\""
   ]
  },
  {
   "cell_type": "markdown",
   "metadata": {},
   "source": [
    "## `while` Loops"
   ]
  },
  {
   "cell_type": "markdown",
   "metadata": {},
   "source": [
    "`while` loops are used to execute code until a condition is met. They aren't used as much in Python as their more popular cousins the `for` loop."
   ]
  },
  {
   "cell_type": "code",
   "execution_count": 19,
   "metadata": {
    "collapsed": false
   },
   "outputs": [
    {
     "name": "stdout",
     "output_type": "stream",
     "text": [
      "edit paper\n",
      "do homework\n",
      "sleep\n"
     ]
    }
   ],
   "source": [
    "tasks = ['edit paper','do homework','sleep']\n",
    "while len(tasks) > 0:\n",
    "    task_to_do = tasks.pop(0)\n",
    "    print task_to_do"
   ]
  },
  {
   "cell_type": "markdown",
   "metadata": {},
   "source": [
    "* `while` loops also have an `else` statement, which gets executed if the loop exits normally"
   ]
  },
  {
   "cell_type": "code",
   "execution_count": 20,
   "metadata": {
    "collapsed": false
   },
   "outputs": [
    {
     "name": "stdout",
     "output_type": "stream",
     "text": [
      "edit paper\n",
      "do homework\n",
      "sleep\n",
      "All done\n"
     ]
    }
   ],
   "source": [
    "tasks = ['edit paper','do homework','sleep']\n",
    "while len(tasks) > 0:\n",
    "    task_to_do = tasks.pop(0)\n",
    "    print task_to_do\n",
    "else:\n",
    "    print \"All done\""
   ]
  },
  {
   "cell_type": "markdown",
   "metadata": {
    "collapsed": false
   },
   "source": [
    "* So if the else statement is executed when a loop exits normally, how does a loop exit abnormally?"
   ]
  },
  {
   "cell_type": "markdown",
   "metadata": {},
   "source": [
    "## Break and Continue"
   ]
  },
  {
   "cell_type": "markdown",
   "metadata": {},
   "source": [
    "`break` and `continue` act on loops. `break` dumps you out of the loop entirely, while `continue` skips over the current iteration."
   ]
  },
  {
   "cell_type": "code",
   "execution_count": 1,
   "metadata": {
    "collapsed": false
   },
   "outputs": [
    {
     "name": "stdout",
     "output_type": "stream",
     "text": [
      "edit paper\n",
      "Too tired\n",
      "sleep\n",
      "All done\n"
     ]
    }
   ],
   "source": [
    "tasks = ['edit paper','do homework','sleep']\n",
    "while len(tasks) > 0:\n",
    "    task_to_do = tasks.pop(0)\n",
    "    if task_to_do == 'do homework':\n",
    "        print \"Too tired\"\n",
    "        continue\n",
    "    print task_to_do\n",
    "else:\n",
    "    print \"All done\""
   ]
  },
  {
   "cell_type": "markdown",
   "metadata": {},
   "source": [
    "* While `continue` can be used to skip a single iteration, `break` can be used to completely jump out of the loop"
   ]
  },
  {
   "cell_type": "code",
   "execution_count": 2,
   "metadata": {
    "collapsed": false
   },
   "outputs": [
    {
     "name": "stdout",
     "output_type": "stream",
     "text": [
      "Need to write paper first\n"
     ]
    }
   ],
   "source": [
    "tasks = ['edit paper','do homework','sleep']\n",
    "while len(tasks) > 0:\n",
    "    task_to_do = tasks.pop(0)\n",
    "    if task_to_do == 'edit paper':\n",
    "        print \"Need to write paper first\"\n",
    "        break\n",
    "    print task_to_do\n",
    "else:\n",
    "    print \"All done\""
   ]
  },
  {
   "cell_type": "markdown",
   "metadata": {},
   "source": [
    "## `for` loops"
   ]
  },
  {
   "cell_type": "markdown",
   "metadata": {},
   "source": [
    "`for` loops are used to execute code a set number of times. The `for`...`in`... syntax is a common usage of `for` loops in Python"
   ]
  },
  {
   "cell_type": "code",
   "execution_count": 1,
   "metadata": {
    "collapsed": false
   },
   "outputs": [
    {
     "name": "stdout",
     "output_type": "stream",
     "text": [
      "Loxodonta africana\n",
      "Callithrix jacchus\n",
      "Rattus norvegicus\n"
     ]
    }
   ],
   "source": [
    "species = ['Loxodonta africana','Callithrix jacchus','Rattus norvegicus']\n",
    "for animal in species:\n",
    "    print animal"
   ]
  },
  {
   "cell_type": "markdown",
   "metadata": {},
   "source": [
    "* Just like `while` loops `for` loops have an optional `else` statement"
   ]
  },
  {
   "cell_type": "code",
   "execution_count": 4,
   "metadata": {
    "collapsed": false
   },
   "outputs": [
    {
     "name": "stdout",
     "output_type": "stream",
     "text": [
      "Loxodonta africana\n",
      "Callithrix jacchus\n",
      "Rattus norvegicus\n",
      "No break statement\n"
     ]
    }
   ],
   "source": [
    "species = ['Loxodonta africana','Callithrix jacchus','Rattus norvegicus']\n",
    "for animal in species:\n",
    "    print animal\n",
    "else:\n",
    "    print \"No break statement\""
   ]
  },
  {
   "cell_type": "markdown",
   "metadata": {},
   "source": [
    "* And just like `while` loops `for` loops can have `break` and `continue` statements. They act exactly the same way as they did in `while` loops"
   ]
  },
  {
   "cell_type": "markdown",
   "metadata": {},
   "source": [
    "* The `for`...`in`... syntax isn't just limited to lists. You can also use it on dictionaries"
   ]
  },
  {
   "cell_type": "code",
   "execution_count": 6,
   "metadata": {
    "collapsed": false
   },
   "outputs": [
    {
     "name": "stdout",
     "output_type": "stream",
     "text": [
      "Loxodonta africana\t12000\n",
      "Callithrix jacchus\t0.5\n"
     ]
    }
   ],
   "source": [
    "species = {'Loxodonta africana':12000,'Callithrix jacchus':0.5}\n",
    "for animal in species:\n",
    "    print animal + '\\t' + str(species[animal])"
   ]
  },
  {
   "cell_type": "markdown",
   "metadata": {},
   "source": [
    "* Side note: You need the `str()` around the `species[animal]` because it is a numberic type, and Python won't concatenate a number with a string."
   ]
  },
  {
   "cell_type": "code",
   "execution_count": 7,
   "metadata": {
    "collapsed": false
   },
   "outputs": [
    {
     "ename": "TypeError",
     "evalue": "cannot concatenate 'str' and 'int' objects",
     "output_type": "error",
     "traceback": [
      "\u001b[0;31m---------------------------------------------------------------------------\u001b[0m",
      "\u001b[0;31mTypeError\u001b[0m                                 Traceback (most recent call last)",
      "\u001b[0;32m<ipython-input-7-f9b868fccfe6>\u001b[0m in \u001b[0;36m<module>\u001b[0;34m()\u001b[0m\n\u001b[1;32m      1\u001b[0m \u001b[0mspecies\u001b[0m \u001b[0;34m=\u001b[0m \u001b[0;34m{\u001b[0m\u001b[0;34m'Loxodonta africana'\u001b[0m\u001b[0;34m:\u001b[0m\u001b[0;36m12000\u001b[0m\u001b[0;34m,\u001b[0m\u001b[0;34m'Callithrix jacchus'\u001b[0m\u001b[0;34m:\u001b[0m\u001b[0;36m0.5\u001b[0m\u001b[0;34m}\u001b[0m\u001b[0;34m\u001b[0m\u001b[0m\n\u001b[1;32m      2\u001b[0m \u001b[0;32mfor\u001b[0m \u001b[0manimal\u001b[0m \u001b[0;32min\u001b[0m \u001b[0mspecies\u001b[0m\u001b[0;34m:\u001b[0m\u001b[0;34m\u001b[0m\u001b[0m\n\u001b[0;32m----> 3\u001b[0;31m     \u001b[0;32mprint\u001b[0m \u001b[0manimal\u001b[0m \u001b[0;34m+\u001b[0m \u001b[0;34m'\\t'\u001b[0m \u001b[0;34m+\u001b[0m \u001b[0mspecies\u001b[0m\u001b[0;34m[\u001b[0m\u001b[0manimal\u001b[0m\u001b[0;34m]\u001b[0m\u001b[0;34m\u001b[0m\u001b[0m\n\u001b[0m",
      "\u001b[0;31mTypeError\u001b[0m: cannot concatenate 'str' and 'int' objects"
     ]
    }
   ],
   "source": [
    "species = {'Loxodonta africana':12000,'Callithrix jacchus':0.5}\n",
    "for animal in species:\n",
    "    print animal + '\\t' + species[animal]"
   ]
  },
  {
   "cell_type": "markdown",
   "metadata": {},
   "source": [
    "## Nested loops"
   ]
  },
  {
   "cell_type": "markdown",
   "metadata": {},
   "source": [
    "* You can put loops inside loops. If you want to do something to every line in a file, and want to do something to every element of every line, you could use a nested loop structure"
   ]
  },
  {
   "cell_type": "code",
   "execution_count": 2,
   "metadata": {
    "collapsed": false
   },
   "outputs": [
    {
     "name": "stdout",
     "output_type": "stream",
     "text": [
      "1\n",
      "2\n",
      "3\n",
      "2\n",
      "4\n",
      "6\n",
      "3\n",
      "6\n",
      "9\n"
     ]
    }
   ],
   "source": [
    "numbers = [1,2,3]\n",
    "for number in numbers:\n",
    "    for number2 in numbers:\n",
    "        print number*number2"
   ]
  },
  {
   "cell_type": "markdown",
   "metadata": {},
   "source": [
    "## `range` function"
   ]
  },
  {
   "cell_type": "markdown",
   "metadata": {},
   "source": [
    "Python also has a `range` function that you can use in `for` loops. If the results look odd, remember Python starts counting from 0."
   ]
  },
  {
   "cell_type": "code",
   "execution_count": 11,
   "metadata": {
    "collapsed": false
   },
   "outputs": [
    {
     "name": "stdout",
     "output_type": "stream",
     "text": [
      "0\n",
      "2\n",
      "4\n",
      "6\n",
      "8\n"
     ]
    }
   ],
   "source": [
    "for i in range(5):\n",
    "    print i*2"
   ]
  },
  {
   "cell_type": "markdown",
   "metadata": {},
   "source": [
    "* You can also give `range` an optional starting point"
   ]
  },
  {
   "cell_type": "code",
   "execution_count": 12,
   "metadata": {
    "collapsed": false
   },
   "outputs": [
    {
     "name": "stdout",
     "output_type": "stream",
     "text": [
      "4\n",
      "6\n",
      "8\n"
     ]
    }
   ],
   "source": [
    "for i in range (2,5):\n",
    "    print i*2"
   ]
  },
  {
   "cell_type": "markdown",
   "metadata": {},
   "source": [
    "* `range` also takes an optional step argument. By default this is 1"
   ]
  },
  {
   "cell_type": "code",
   "execution_count": 13,
   "metadata": {
    "collapsed": false
   },
   "outputs": [
    {
     "name": "stdout",
     "output_type": "stream",
     "text": [
      "0\n",
      "4\n",
      "8\n",
      "12\n",
      "16\n"
     ]
    }
   ],
   "source": [
    "for i in range(0,10,2):\n",
    "    print i*2"
   ]
  },
  {
   "cell_type": "markdown",
   "metadata": {},
   "source": [
    "* You *could* use `range` to iterate through a list while keeping count"
   ]
  },
  {
   "cell_type": "code",
   "execution_count": 16,
   "metadata": {
    "collapsed": false
   },
   "outputs": [
    {
     "name": "stdout",
     "output_type": "stream",
     "text": [
      "0\tLoxodonta africana\n",
      "1\tCallithrix jacchus\n",
      "2\tRattus norvegicus\n"
     ]
    }
   ],
   "source": [
    "species = ['Loxodonta africana','Callithrix jacchus','Rattus norvegicus']\n",
    "for i in range(len(species)):\n",
    "    print str(i) + '\\t' + species[i]"
   ]
  },
  {
   "cell_type": "markdown",
   "metadata": {},
   "source": [
    "* This isn't very *Pythonic*. there is a better way to do it using `enumerate`. In Python `enumerate` goes over a list, and gives you the index *and* the element"
   ]
  },
  {
   "cell_type": "code",
   "execution_count": 17,
   "metadata": {
    "collapsed": false
   },
   "outputs": [
    {
     "name": "stdout",
     "output_type": "stream",
     "text": [
      "0\tLoxodonta africana\n",
      "1\tCallithrix jacchus\n",
      "2\tRattus norvegicus\n"
     ]
    }
   ],
   "source": [
    "species = ['Loxodonta africana','Callithrix jacchus','Rattus norvegicus']\n",
    "for i, animal in enumerate(species):\n",
    "    print str(i) + '\\t' + animal"
   ]
  },
  {
   "cell_type": "markdown",
   "metadata": {},
   "source": [
    "## Functions"
   ]
  },
  {
   "cell_type": "markdown",
   "metadata": {},
   "source": [
    "Functions are chunks of reusable code. If you ever find yourself copying and pasting code multiple times, ask yourself \"Could I turn this into a function?\""
   ]
  },
  {
   "cell_type": "markdown",
   "metadata": {},
   "source": [
    "The syntax for a function is pretty simple\n",
    "```python\n",
    "def function_name(arguments):\n",
    "    code_to_execute\n",
    "    return result\n",
    "```"
   ]
  },
  {
   "cell_type": "markdown",
   "metadata": {},
   "source": [
    "If we wanted to create a function that does exponentiation, we could write something like this:"
   ]
  },
  {
   "cell_type": "code",
   "execution_count": 18,
   "metadata": {
    "collapsed": true
   },
   "outputs": [],
   "source": [
    "def expon(base,exponent):\n",
    "    return base**exponent"
   ]
  },
  {
   "cell_type": "markdown",
   "metadata": {},
   "source": [
    "We now can use our `expon` function in our code"
   ]
  },
  {
   "cell_type": "code",
   "execution_count": 19,
   "metadata": {
    "collapsed": false
   },
   "outputs": [
    {
     "data": {
      "text/plain": [
       "4"
      ]
     },
     "execution_count": 19,
     "metadata": {},
     "output_type": "execute_result"
    }
   ],
   "source": [
    "expon(2,2)"
   ]
  },
  {
   "cell_type": "code",
   "execution_count": 21,
   "metadata": {
    "collapsed": false
   },
   "outputs": [
    {
     "data": {
      "text/plain": [
       "64"
      ]
     },
     "execution_count": 21,
     "metadata": {},
     "output_type": "execute_result"
    }
   ],
   "source": [
    "expon(4,3)"
   ]
  },
  {
   "cell_type": "markdown",
   "metadata": {},
   "source": [
    "We could create a function that says hello"
   ]
  },
  {
   "cell_type": "code",
   "execution_count": 24,
   "metadata": {
    "collapsed": true
   },
   "outputs": [],
   "source": [
    "def greet(name):\n",
    "    greeting = \"Hello \" + name\n",
    "    return greeting"
   ]
  },
  {
   "cell_type": "code",
   "execution_count": 25,
   "metadata": {
    "collapsed": false
   },
   "outputs": [
    {
     "data": {
      "text/plain": [
       "'Hello Andrew'"
      ]
     },
     "execution_count": 25,
     "metadata": {},
     "output_type": "execute_result"
    }
   ],
   "source": [
    "greet(\"Andrew\")"
   ]
  },
  {
   "cell_type": "markdown",
   "metadata": {},
   "source": [
    "If we are bored with just \"Hello\", we could refactor our function to take any greeting as an argument"
   ]
  },
  {
   "cell_type": "code",
   "execution_count": 28,
   "metadata": {
    "collapsed": false
   },
   "outputs": [],
   "source": [
    "def greet(greeting, name):\n",
    "    greeting = greeting + \" \" + name\n",
    "    return greeting"
   ]
  },
  {
   "cell_type": "code",
   "execution_count": 29,
   "metadata": {
    "collapsed": false
   },
   "outputs": [
    {
     "data": {
      "text/plain": [
       "'Bonjour Francois'"
      ]
     },
     "execution_count": 29,
     "metadata": {},
     "output_type": "execute_result"
    }
   ],
   "source": [
    "greet(\"Bonjour\",\"Francois\")"
   ]
  },
  {
   "cell_type": "markdown",
   "metadata": {},
   "source": [
    "## Polymorphism"
   ]
  },
  {
   "cell_type": "markdown",
   "metadata": {},
   "source": [
    "Every value in Python has a type, and this type determines what actions can be performed on the value. \n",
    "This also means that the same opperation can have different results on different types. \n",
    "For example `+` on number types is addition. `+` on strings is concatenation. This is polymorphism."
   ]
  },
  {
   "cell_type": "markdown",
   "metadata": {},
   "source": [
    "This is also why `1+\"frog\"` doesn't work"
   ]
  },
  {
   "cell_type": "code",
   "execution_count": 31,
   "metadata": {
    "collapsed": false
   },
   "outputs": [
    {
     "ename": "TypeError",
     "evalue": "unsupported operand type(s) for +: 'int' and 'str'",
     "output_type": "error",
     "traceback": [
      "\u001b[0;31m---------------------------------------------------------------------------\u001b[0m",
      "\u001b[0;31mTypeError\u001b[0m                                 Traceback (most recent call last)",
      "\u001b[0;32m<ipython-input-31-a08be07b0252>\u001b[0m in \u001b[0;36m<module>\u001b[0;34m()\u001b[0m\n\u001b[0;32m----> 1\u001b[0;31m \u001b[0;36m1\u001b[0m\u001b[0;34m+\u001b[0m\u001b[0;34m\"frog\"\u001b[0m\u001b[0;34m\u001b[0m\u001b[0m\n\u001b[0m",
      "\u001b[0;31mTypeError\u001b[0m: unsupported operand type(s) for +: 'int' and 'str'"
     ]
    }
   ],
   "source": [
    "1+\"frog\""
   ]
  },
  {
   "cell_type": "markdown",
   "metadata": {},
   "source": [
    "Python checks the types and tries to determine what opperation to perform. Since we have both a string and an int, Python doesn't know and throws an exception."
   ]
  },
  {
   "cell_type": "markdown",
   "metadata": {},
   "source": [
    "When we get to Object Oriented Programming, and you start creating your own classes, we will talk about polymorphism some more, and you'll see how it works under the hood."
   ]
  },
  {
   "cell_type": "markdown",
   "metadata": {},
   "source": [
    "## \"Real World\" Examples "
   ]
  },
  {
   "cell_type": "markdown",
   "metadata": {},
   "source": [
    "### Covariate generator"
   ]
  },
  {
   "cell_type": "markdown",
   "metadata": {},
   "source": [
    "```python\n",
    "from __future__ import print_function\n",
    "import sys\n",
    "\n",
    "filename = sys.argv[1]\n",
    "\n",
    "id_output = \"ID\"\n",
    "gender_output = \"gender\"\n",
    "\n",
    "with open(filename, 'r') as f:\n",
    "    for line in f:\n",
    "        id, gender = line.strip().split('\\t')\n",
    "        id = id.split('-')[-1]\n",
    "        if gender == \"MALE\":\n",
    "            gender = 0\n",
    "        elif gender == \"FEMALE\":\n",
    "            gender = 1\n",
    "        id_output += \"\\t\" + str(id)\n",
    "        gender_output += \"\\t\" + str(gender)\n",
    "\n",
    "print(id_output)\n",
    "print(gender_output)\n",
    "```"
   ]
  },
  {
   "cell_type": "markdown",
   "metadata": {},
   "source": [
    "### Gene Expression Matrix"
   ]
  },
  {
   "cell_type": "markdown",
   "metadata": {},
   "source": [
    "```python\n",
    "from __future__ import print_function\n",
    "import sys\n",
    "import glob\n",
    "\n",
    "def create_header(files):\n",
    "    header = 'ID\\t'\n",
    "\n",
    "    if len(files) == 0:\n",
    "        print('No files found in the glob')\n",
    "        sys.exit()\n",
    "\n",
    "    for filename in files:\n",
    "        sample_id = filename.split('-')[2]\n",
    "        header = header + sample_id + '\\t'\n",
    "    header = header.rstrip()\n",
    "    return header\n",
    "\n",
    "def parse_genes(files):\n",
    "    gene_data = {}\n",
    "    gene_ids = []\n",
    "    for counter, data in enumerate(files):\n",
    "        genes = open(data, 'r').read()\n",
    "        genes = genes.split('\\n')\n",
    "        for gene in genes:\n",
    "            if not (gene.startswith('gene') or gene.startswith('?')) and gene != '':\n",
    "                gene_id, value = gene.split('\\t')\n",
    "                orig_id = gene_id\n",
    "                gene_id = gene_id.split('|')[0]\n",
    "                if orig_id in gene_data:\n",
    "                    gene_data[orig_id] = gene_data[orig_id] + '\\t' + value\n",
    "                elif gene_id in gene_data and counter!=0:\n",
    "                    gene_data[gene_id] = gene_data[gene_id] + '\\t' + value\n",
    "                elif gene_id in gene_data and counter==0:\n",
    "                    gene_data[orig_id] = value\n",
    "                    gene_ids.append(orig_id)\n",
    "                else:\n",
    "                    gene_data[gene_id] = value\n",
    "                    gene_ids.append(gene_id)\n",
    "\n",
    "    return(gene_data, gene_ids)\n",
    "\n",
    "#search argument needs to be quoted so it isn't expanded in the command line\n",
    "def main():\n",
    "    search = sys.argv[1]\n",
    "    files = glob.glob(search)\n",
    "\n",
    "    output = create_header(files)\n",
    "\n",
    "    gene_data, gene_id = parse_genes(files)\n",
    "\n",
    "    print(output)\n",
    "    for gene in gene_id:\n",
    "        print(gene + '\\t' + gene_data[gene])\n",
    "\n",
    "if __name__ == '__main__':\n",
    "    main()\n",
    "```"
   ]
  }
 ],
 "metadata": {
  "kernelspec": {
   "display_name": "Python 2",
   "language": "python",
   "name": "python2"
  },
  "language_info": {
   "codemirror_mode": {
    "name": "ipython",
    "version": 2
   },
   "file_extension": ".py",
   "mimetype": "text/x-python",
   "name": "python",
   "nbconvert_exporter": "python",
   "pygments_lexer": "ipython2",
   "version": "2.7.11"
  }
 },
 "nbformat": 4,
 "nbformat_minor": 0
}
