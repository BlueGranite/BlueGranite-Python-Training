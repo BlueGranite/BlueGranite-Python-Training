{
 "cells": [
  {
   "cell_type": "markdown",
   "metadata": {},
   "source": [
    "# Midterm Review"
   ]
  },
  {
   "cell_type": "markdown",
   "metadata": {},
   "source": [
    "## Topics"
   ]
  },
  {
   "cell_type": "markdown",
   "metadata": {},
   "source": [
    "### Data Types\n",
    "\n",
    "* Numbers\n",
    "* Strings\n",
    "  * Slicing\n",
    "  * Concatenation \n",
    "  * Repetition\n",
    "  * Immutability\n",
    "  * Methods\n",
    "    * `.find()`\n",
    "    * `.split()`\n",
    "    * `.strip()`\n",
    "    * `.replace()`\n",
    "* Lists\n",
    "  * Indexing\n",
    "  * Slicing\n",
    "  * Concatenation\n",
    "  * Nesting\n",
    "  * `len()`\n",
    "  * List Comprehensions\n",
    "  * Methods\n",
    "    * `.append()`\n",
    "    * `.pop()`\n",
    "    * `.sort()`\n",
    "    * `.reverse()`\n",
    "* Dictionaries\n",
    "  * Accessing\n",
    "  * Nesting\n",
    "  * Methods\n",
    "    * `.keys()`\n",
    "    * `.items()`\n",
    "* Tuples\n",
    "  * Immutability\n",
    "  * Indexing\n",
    "  * Slicing\n",
    "* Sets"
   ]
  },
  {
   "cell_type": "markdown",
   "metadata": {},
   "source": [
    "### Regex\n",
    "\n",
    "* re module\n",
    "* Regular expression syntax"
   ]
  },
  {
   "cell_type": "markdown",
   "metadata": {},
   "source": [
    "### If/Else\n",
    "* `if`\n",
    "* `else`\n",
    "* `elif`"
   ]
  },
  {
   "cell_type": "markdown",
   "metadata": {},
   "source": [
    "### True and False\n",
    "* `True` values and `False` values\n",
    "* Boolean operations (`and`, `or`)"
   ]
  },
  {
   "cell_type": "markdown",
   "metadata": {},
   "source": [
    "### Loops\n",
    "* `for` loops\n",
    "* `while` loops\n",
    "* `break`\n",
    "* `continue`\n",
    "* Nested loops"
   ]
  },
  {
   "cell_type": "markdown",
   "metadata": {},
   "source": [
    "### Files\n",
    "* Opening\n",
    "* Reading lines\n",
    "* Writing lines\n",
    "* Pickle module"
   ]
  },
  {
   "cell_type": "markdown",
   "metadata": {},
   "source": [
    "### Functions\n",
    "* Defining functions\n",
    "* Calling functions"
   ]
  },
  {
   "cell_type": "markdown",
   "metadata": {},
   "source": [
    "### Misc. \n",
    "* Modules\n",
    "* Polymorphism\n",
    "* Python 2 vs Python 3\n",
    "  * print statement vs print function"
   ]
  },
  {
   "cell_type": "markdown",
   "metadata": {},
   "source": [
    "## Questions\n",
    "\n",
    "* What does it mean that a string is immutable?\n",
    "* What is the difference between a list and a tuple?\n",
    "* What is the difference between a list and a dictionary? Why would you use a dictionary instead of a list?\n",
    "* Write a program that opens a file and prints out each line"
   ]
  }
 ],
 "metadata": {
  "kernelspec": {
   "display_name": "Python 2",
   "language": "python",
   "name": "python2"
  },
  "language_info": {
   "codemirror_mode": {
    "name": "ipython",
    "version": 2
   },
   "file_extension": ".py",
   "mimetype": "text/x-python",
   "name": "python",
   "nbconvert_exporter": "python",
   "pygments_lexer": "ipython2",
   "version": "2.7.11"
  }
 },
 "nbformat": 4,
 "nbformat_minor": 0
}
