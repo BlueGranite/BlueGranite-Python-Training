{
 "cells": [
  {
   "cell_type": "markdown",
   "metadata": {},
   "source": [
    "# Lecture Review 4-19-16"
   ]
  },
  {
   "cell_type": "markdown",
   "metadata": {},
   "source": [
    "## Class Attributes"
   ]
  },
  {
   "cell_type": "markdown",
   "metadata": {},
   "source": [
    "* Class attributes can be accessed through the class or through an instance of the class\n",
    "* In lecture you saw an example of how to track instances of a class using a class attribute\n",
    "* The list or dictionary that held the instances belonged to the class, and not to the instances\n",
    "* Sometimes class attributes have to be explicitly accessed through the class"
   ]
  },
  {
   "cell_type": "code",
   "execution_count": 6,
   "metadata": {
    "collapsed": false
   },
   "outputs": [
    {
     "data": {
      "text/plain": [
       "0"
      ]
     },
     "execution_count": 6,
     "metadata": {},
     "output_type": "execute_result"
    }
   ],
   "source": [
    "class Wrong(object):\n",
    "    instances = 0\n",
    "    def __init__(self):\n",
    "        self.instances += 1\n",
    "\n",
    "w1 = Wrong()\n",
    "w2 = Wrong()\n",
    "Wrong.instances"
   ]
  },
  {
   "cell_type": "code",
   "execution_count": 9,
   "metadata": {
    "collapsed": false
   },
   "outputs": [
    {
     "data": {
      "text/plain": [
       "2"
      ]
     },
     "execution_count": 9,
     "metadata": {},
     "output_type": "execute_result"
    }
   ],
   "source": [
    "class Better(object):\n",
    "    instances = 0\n",
    "    def __init__(self):\n",
    "        Better.instances += 1\n",
    "\n",
    "b1 = Better()\n",
    "b2 = Better()\n",
    "Better.instances"
   ]
  },
  {
   "cell_type": "markdown",
   "metadata": {},
   "source": [
    "## Classmethods"
   ]
  },
  {
   "cell_type": "markdown",
   "metadata": {},
   "source": [
    "* classmethods are methods that operate on the class level, instead of on the instance level"
   ]
  },
  {
   "cell_type": "code",
   "execution_count": 2,
   "metadata": {
    "collapsed": false
   },
   "outputs": [],
   "source": [
    "class Better(object):\n",
    "    instances = 0\n",
    "    def __init__(self):\n",
    "        Better.instances += 1\n",
    "    @classmethod\n",
    "    def print_instance_count(cls):\n",
    "        print \"There are \" + str(cls.instances) + \" instance(s)\""
   ]
  },
  {
   "cell_type": "code",
   "execution_count": 3,
   "metadata": {
    "collapsed": false
   },
   "outputs": [],
   "source": [
    "b1 = Better()\n",
    "b2 = Better()"
   ]
  },
  {
   "cell_type": "code",
   "execution_count": 7,
   "metadata": {
    "collapsed": false
   },
   "outputs": [
    {
     "name": "stdout",
     "output_type": "stream",
     "text": [
      "There are 2 instance(s)\n"
     ]
    }
   ],
   "source": [
    "b2.print_instance_count()"
   ]
  },
  {
   "cell_type": "markdown",
   "metadata": {},
   "source": [
    "## Problems in \"Bioinformatics Programming Using Python\"\n",
    "\n",
    "In \"Bioinformatics Programming Using Python\" classmethods are written like:\n",
    "```Python\n",
    "Instances = []\n",
    "\n",
    "@classmethod\n",
    "def InstanceCount(self):\n",
    "    return len(self.Instances)\n",
    "```\n",
    "\n",
    "* By convention classmethods take `cls` as their first parameter, not `self`\n",
    "* The naming conventions for Python also suggest that variables have lowercase names"
   ]
  },
  {
   "cell_type": "markdown",
   "metadata": {
    "collapsed": false
   },
   "source": [
    "## Decorators\n",
    "\n",
    "* The `@` syntax for `@classmethod` and `@staticmethod` is because they are decorators\n",
    "* Decorators take functions as arguments and return a new function that has extra code and functionality"
   ]
  },
  {
   "cell_type": "code",
   "execution_count": 2,
   "metadata": {
    "collapsed": true
   },
   "outputs": [],
   "source": [
    "def add(a,b):\n",
    "    return a + b"
   ]
  },
  {
   "cell_type": "code",
   "execution_count": 3,
   "metadata": {
    "collapsed": false
   },
   "outputs": [
    {
     "data": {
      "text/plain": [
       "3"
      ]
     },
     "execution_count": 3,
     "metadata": {},
     "output_type": "execute_result"
    }
   ],
   "source": [
    "add(1,2)"
   ]
  },
  {
   "cell_type": "code",
   "execution_count": 4,
   "metadata": {
    "collapsed": false
   },
   "outputs": [
    {
     "data": {
      "text/plain": [
       "131"
      ]
     },
     "execution_count": 4,
     "metadata": {},
     "output_type": "execute_result"
    }
   ],
   "source": [
    "add(42,89)"
   ]
  },
  {
   "cell_type": "code",
   "execution_count": 5,
   "metadata": {
    "collapsed": true
   },
   "outputs": [],
   "source": [
    "def our_decorator(function):\n",
    "    def decorated_func(*args, **kwargs):\n",
    "        return \"The result of the function is: \" + str(function(*args, **kwargs))\n",
    "    return decorated_func\n",
    "\n",
    "@our_decorator\n",
    "def add(a,b):\n",
    "    return a + b"
   ]
  },
  {
   "cell_type": "code",
   "execution_count": 6,
   "metadata": {
    "collapsed": false
   },
   "outputs": [
    {
     "data": {
      "text/plain": [
       "'The result of the function is: 3'"
      ]
     },
     "execution_count": 6,
     "metadata": {},
     "output_type": "execute_result"
    }
   ],
   "source": [
    "add(1,2)"
   ]
  },
  {
   "cell_type": "code",
   "execution_count": 7,
   "metadata": {
    "collapsed": false
   },
   "outputs": [
    {
     "data": {
      "text/plain": [
       "'The result of the function is: 131'"
      ]
     },
     "execution_count": 7,
     "metadata": {},
     "output_type": "execute_result"
    }
   ],
   "source": [
    "add(42,89)"
   ]
  },
  {
   "cell_type": "code",
   "execution_count": 9,
   "metadata": {
    "collapsed": false
   },
   "outputs": [
    {
     "data": {
      "text/plain": [
       "'The result of the function is: 3'"
      ]
     },
     "execution_count": 9,
     "metadata": {},
     "output_type": "execute_result"
    }
   ],
   "source": [
    "@our_decorator\n",
    "def sub(a,b):\n",
    "    return a - b\n",
    "\n",
    "sub(5,2)"
   ]
  },
  {
   "cell_type": "markdown",
   "metadata": {},
   "source": [
    "## Class Relationships\n",
    "\n",
    "* There are several ways for classes to work together and be related\n",
    "* Decomposition breaks larger objects into smaller objects\n",
    "* Our `VcfFile` class was made of a `VcfHeader` class and a `VcfRecord` class. `VcfRecord` used a `VcfInfo` class\n",
    "* Inheritance is another way classes can be related\n",
    "* In the inheritance pattern classes can \"inherit\" methods from parent classes\n",
    "* In the example below, `RnaSequence` would inherit the `calc_gc` method from the `Sequence` class\n",
    "* Inheritance is good for reusing common code. Instead of copying and pasting the `calc_gc` function into the `RnaSequence` class it inherits it."
   ]
  },
  {
   "cell_type": "code",
   "execution_count": 12,
   "metadata": {
    "collapsed": false
   },
   "outputs": [],
   "source": [
    "class Sequence(object):\n",
    "    def __init__(self, line):\n",
    "        self.line = line\n",
    "    def calc_gc(self):\n",
    "        #Do GC calculation\n",
    "        pass\n",
    "\n",
    "class RnaSequence(Sequence):\n",
    "    pass"
   ]
  },
  {
   "cell_type": "markdown",
   "metadata": {},
   "source": [
    "## Information Hiding\n",
    "\n",
    "* Prefixing variable names with `_` indicates that the variable shouldn't be accessed from outside of the class\n",
    "* If you do `from Class import *` names that start with `_` won't be imported\n",
    "* However nothing prevents somebody from using the variable"
   ]
  },
  {
   "cell_type": "code",
   "execution_count": 16,
   "metadata": {
    "collapsed": true
   },
   "outputs": [],
   "source": [
    "class HideVar(object):\n",
    "    def __init__(self):\n",
    "        self._hidden = \"not here\""
   ]
  },
  {
   "cell_type": "code",
   "execution_count": 17,
   "metadata": {
    "collapsed": true
   },
   "outputs": [],
   "source": [
    "h = HideVar()"
   ]
  },
  {
   "cell_type": "code",
   "execution_count": 18,
   "metadata": {
    "collapsed": false
   },
   "outputs": [
    {
     "data": {
      "text/plain": [
       "'not here'"
      ]
     },
     "execution_count": 18,
     "metadata": {},
     "output_type": "execute_result"
    }
   ],
   "source": [
    "h._hidden"
   ]
  },
  {
   "cell_type": "code",
   "execution_count": 19,
   "metadata": {
    "collapsed": true
   },
   "outputs": [],
   "source": [
    "h._hidden = \"found\""
   ]
  },
  {
   "cell_type": "code",
   "execution_count": 20,
   "metadata": {
    "collapsed": false
   },
   "outputs": [
    {
     "data": {
      "text/plain": [
       "'found'"
      ]
     },
     "execution_count": 20,
     "metadata": {},
     "output_type": "execute_result"
    }
   ],
   "source": [
    "h._hidden"
   ]
  },
  {
   "cell_type": "markdown",
   "metadata": {},
   "source": [
    "* Using names that start with `__` prevents code from outside the class accessing it (kind of)"
   ]
  },
  {
   "cell_type": "code",
   "execution_count": 22,
   "metadata": {
    "collapsed": true
   },
   "outputs": [],
   "source": [
    "class SuperHideVar(object):\n",
    "    def __init__(self):\n",
    "        self.__super_hidden = \"not here\""
   ]
  },
  {
   "cell_type": "code",
   "execution_count": 24,
   "metadata": {
    "collapsed": false
   },
   "outputs": [
    {
     "ename": "AttributeError",
     "evalue": "'SuperHideVar' object has no attribute '__super_hidden'",
     "output_type": "error",
     "traceback": [
      "\u001b[0;31m---------------------------------------------------------------------------\u001b[0m",
      "\u001b[0;31mAttributeError\u001b[0m                            Traceback (most recent call last)",
      "\u001b[0;32m<ipython-input-24-722ec8fcb904>\u001b[0m in \u001b[0;36m<module>\u001b[0;34m()\u001b[0m\n\u001b[1;32m      1\u001b[0m \u001b[0mh\u001b[0m \u001b[0;34m=\u001b[0m \u001b[0mSuperHideVar\u001b[0m\u001b[0;34m(\u001b[0m\u001b[0;34m)\u001b[0m\u001b[0;34m\u001b[0m\u001b[0m\n\u001b[0;32m----> 2\u001b[0;31m \u001b[0mh\u001b[0m\u001b[0;34m.\u001b[0m\u001b[0m__super_hidden\u001b[0m\u001b[0;34m\u001b[0m\u001b[0m\n\u001b[0m",
      "\u001b[0;31mAttributeError\u001b[0m: 'SuperHideVar' object has no attribute '__super_hidden'"
     ]
    }
   ],
   "source": [
    "h = SuperHideVar()\n",
    "h.__super_hidden"
   ]
  },
  {
   "cell_type": "markdown",
   "metadata": {},
   "source": [
    "* However you can still access the variable\n",
    "* The `__` syntax invokes name mangling, which means the variable has a different name\n",
    "* If we use the instances `__dict__` attribute we can see the variable"
   ]
  },
  {
   "cell_type": "code",
   "execution_count": 26,
   "metadata": {
    "collapsed": false
   },
   "outputs": [
    {
     "data": {
      "text/plain": [
       "{'_SuperHideVar__super_hidden': 'not here'}"
      ]
     },
     "execution_count": 26,
     "metadata": {},
     "output_type": "execute_result"
    }
   ],
   "source": [
    "h.__dict__"
   ]
  },
  {
   "cell_type": "markdown",
   "metadata": {},
   "source": [
    "* The mangled name is `_ClassName__variable_name` \n",
    "* Using this information we can still access `__` prefixed variables"
   ]
  },
  {
   "cell_type": "code",
   "execution_count": 27,
   "metadata": {
    "collapsed": false
   },
   "outputs": [
    {
     "data": {
      "text/plain": [
       "'not here'"
      ]
     },
     "execution_count": 27,
     "metadata": {},
     "output_type": "execute_result"
    }
   ],
   "source": [
    "h._SuperHideVar__super_hidden"
   ]
  },
  {
   "cell_type": "code",
   "execution_count": 28,
   "metadata": {
    "collapsed": true
   },
   "outputs": [],
   "source": [
    "h._SuperHideVar__super_hidden = \"found\""
   ]
  },
  {
   "cell_type": "code",
   "execution_count": 29,
   "metadata": {
    "collapsed": false
   },
   "outputs": [
    {
     "data": {
      "text/plain": [
       "'found'"
      ]
     },
     "execution_count": 29,
     "metadata": {},
     "output_type": "execute_result"
    }
   ],
   "source": [
    "h._SuperHideVar__super_hidden"
   ]
  },
  {
   "cell_type": "markdown",
   "metadata": {},
   "source": [
    "## PEP 8\n",
    "\n",
    "* [PEP 8](https://www.python.org/dev/peps/pep-0008/) is the official style guide for Python\n",
    "* It includes some of the naming conventions we've just discussed"
   ]
  }
 ],
 "metadata": {
  "kernelspec": {
   "display_name": "Python 2",
   "language": "python",
   "name": "python2"
  },
  "language_info": {
   "codemirror_mode": {
    "name": "ipython",
    "version": 2
   },
   "file_extension": ".py",
   "mimetype": "text/x-python",
   "name": "python",
   "nbconvert_exporter": "python",
   "pygments_lexer": "ipython2",
   "version": "2.7.11"
  }
 },
 "nbformat": 4,
 "nbformat_minor": 0
}
