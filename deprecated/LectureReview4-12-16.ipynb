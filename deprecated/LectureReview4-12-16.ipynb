{
 "metadata": {
  "name": "",
  "signature": "sha256:ec1ae1634d148777e9c49e6fd84de94d3f5c3dc5bb9e9c142739ac575ad1bd19"
 },
 "nbformat": 3,
 "nbformat_minor": 0,
 "worksheets": [
  {
   "cells": [
    {
     "cell_type": "heading",
     "level": 1,
     "metadata": {},
     "source": [
      "Lecture Review 4-12-16"
     ]
    },
    {
     "cell_type": "heading",
     "level": 2,
     "metadata": {},
     "source": [
      "Acess Methods"
     ]
    },
    {
     "cell_type": "markdown",
     "metadata": {},
     "source": [
      "* Access methods are methods that return a value that is based on some data stored in a class instance. \n",
      "* Access methods can simply return the value as is, or use it in some computation or modify it in some way"
     ]
    },
    {
     "cell_type": "markdown",
     "metadata": {},
     "source": [
      "In the VcfRecord class we used access methods.\n",
      "```Python\n",
      "class VcfRecord(object):\n",
      "\n",
      "...\n",
      "\n",
      "    def get_chr(self):\n",
      "        return(str(self.data).split()[0])\n",
      "```"
     ]
    },
    {
     "cell_type": "heading",
     "level": 2,
     "metadata": {},
     "source": [
      "Predicate Methods"
     ]
    },
    {
     "cell_type": "markdown",
     "metadata": {},
     "source": [
      "* Predicate methods are boolean based, and can be used for comparision\n",
      "* They are usually named starting with \"is\" or \"has\" eg `isupper`\n",
      "\n",
      "We could have written a method to check if the VcfRecord is an Indel\n",
      "```Python\n",
      "class VcfRecord(object):\n",
      "\n",
      "...\n",
      "\n",
      "    def is_indel(self):\n",
      "        return self.info.VT == 'INDEL'\n",
      "```"
     ]
    },
    {
     "cell_type": "heading",
     "level": 2,
     "metadata": {},
     "source": [
      "Comparison and Sorting"
     ]
    },
    {
     "cell_type": "markdown",
     "metadata": {},
     "source": [
      "* You can consider the `__lt__` method to be a predicate method\n",
      "* `__lt__` is called whenever `sort` is called\n",
      "* If `__lt__` isn't implemented, `sort` won't work\n",
      "* `__lt__` takes two arguments, `self` and a second instance\n",
      "* The two things being compared should be the same type or class\n",
      "\n",
      "We could have written a `__lt__` method for `VcfRecord`\n",
      "\n",
      "```Python\n",
      "class VcfRecord(object):\n",
      "\n",
      "...\n",
      "\n",
      "    def __lt__(self, other):\n",
      "        if type(self) != type(other):\n",
      "            raise Exception(str(other) + ' does not match type of ' + str(self))\n",
      "        return self.id < other.id\n",
      "```"
     ]
    },
    {
     "cell_type": "heading",
     "level": 2,
     "metadata": {},
     "source": [
      "Initialiization methods"
     ]
    },
    {
     "cell_type": "markdown",
     "metadata": {},
     "source": [
      "* This is the `__init__` method, which is used to set up the instances of a class"
     ]
    },
    {
     "cell_type": "heading",
     "level": 2,
     "metadata": {},
     "source": [
      "String methods"
     ]
    },
    {
     "cell_type": "markdown",
     "metadata": {},
     "source": [
      "* `__repr__` and `__str__`\n",
      "* If `__repr__` is defined, and `__str__` is undefined, `__repr__` will be called when `str()` is used\n",
      "* If `__str__` is defined and `__repr__` is undefined, `__str__` will not be called. The default `__repr__` will be used."
     ]
    },
    {
     "cell_type": "heading",
     "level": 2,
     "metadata": {},
     "source": [
      "Modification methods"
     ]
    },
    {
     "cell_type": "markdown",
     "metadata": {},
     "source": [
      "* As their name suggest modification methods modify data\n",
      "We could write a method that converts a `VcfRecord` position from 1-based to 0-based\n",
      "\n",
      "```Python\n",
      "class VcfRecord(object):\n",
      "\n",
      "...\n",
      "\n",
      "    def convert_to_zero(self):\n",
      "        return self.pos-1\n",
      "```"
     ]
    },
    {
     "cell_type": "heading",
     "level": 2,
     "metadata": {},
     "source": [
      "Caveats"
     ]
    },
    {
     "cell_type": "markdown",
     "metadata": {},
     "source": [
      "We would like to keep the data that is stored in the instance isolated. Poorly written access methods can break this"
     ]
    },
    {
     "cell_type": "code",
     "collapsed": false,
     "input": [
      "a = [1,2,3]\n",
      "b = a\n",
      "b[0]=500\n",
      "a"
     ],
     "language": "python",
     "metadata": {},
     "outputs": [
      {
       "metadata": {},
       "output_type": "pyout",
       "prompt_number": 1,
       "text": [
        "[500, 2, 3]"
       ]
      }
     ],
     "prompt_number": 1
    },
    {
     "cell_type": "code",
     "collapsed": false,
     "input": [
      "a = {1:'1',2:'2',3:'3'}\n",
      "b = a\n",
      "b[1]='782'\n",
      "a"
     ],
     "language": "python",
     "metadata": {},
     "outputs": [
      {
       "metadata": {},
       "output_type": "pyout",
       "prompt_number": 2,
       "text": [
        "{1: '782', 2: '2', 3: '3'}"
       ]
      }
     ],
     "prompt_number": 2
    },
    {
     "cell_type": "markdown",
     "metadata": {},
     "source": [
      "Because of the way Python copies and passes some objects, the original data can be accessed and modified. You should never return the original object from an access method."
     ]
    },
    {
     "cell_type": "code",
     "collapsed": true,
     "input": [
      "a = [1,2,3]\n",
      "b = a[:]\n",
      "b[0]=500\n",
      "a"
     ],
     "language": "python",
     "metadata": {},
     "outputs": [
      {
       "metadata": {},
       "output_type": "pyout",
       "prompt_number": 4,
       "text": [
        "[1, 2, 3]"
       ]
      }
     ],
     "prompt_number": 4
    },
    {
     "cell_type": "heading",
     "level": 2,
     "metadata": {},
     "source": [
      "Support methods"
     ]
    },
    {
     "cell_type": "markdown",
     "metadata": {},
     "source": [
      "* Support methods are methods that are meant to be used by other methods. They can be created to help readability and clarity."
     ]
    },
    {
     "cell_type": "code",
     "collapsed": false,
     "input": [],
     "language": "python",
     "metadata": {},
     "outputs": []
    }
   ],
   "metadata": {}
  }
 ]
}